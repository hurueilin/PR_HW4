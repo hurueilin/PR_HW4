{
 "cells": [
  {
   "cell_type": "code",
   "execution_count": 1,
   "metadata": {},
   "outputs": [],
   "source": [
    "import numpy as np\n",
    "import pandas as pd\n",
    "from sklearn.svm import SVC, SVR\n",
    "from sklearn.metrics import accuracy_score\n",
    "import random"
   ]
  },
  {
   "cell_type": "markdown",
   "metadata": {},
   "source": [
    "## Load data"
   ]
  },
  {
   "cell_type": "code",
   "execution_count": 2,
   "metadata": {},
   "outputs": [],
   "source": [
    "x_train = np.load(\"x_train.npy\")\n",
    "y_train = np.load(\"y_train.npy\")\n",
    "x_test = np.load(\"x_test.npy\")\n",
    "y_test = np.load(\"y_test.npy\")"
   ]
  },
  {
   "cell_type": "code",
   "execution_count": 3,
   "metadata": {},
   "outputs": [
    {
     "output_type": "stream",
     "name": "stdout",
     "text": [
      "(550, 300)\n"
     ]
    }
   ],
   "source": [
    "# 550 data with 300 features\n",
    "print(x_train.shape)"
   ]
  },
  {
   "cell_type": "code",
   "execution_count": 4,
   "metadata": {},
   "outputs": [
    {
     "output_type": "stream",
     "name": "stdout",
     "text": [
      "[0 1]\n"
     ]
    }
   ],
   "source": [
    "# It's a binary classification problem \n",
    "print(np.unique(y_train))"
   ]
  },
  {
   "cell_type": "code",
   "execution_count": 5,
   "metadata": {},
   "outputs": [],
   "source": [
    "# x_train_part = x_train[:86,:]\n",
    "# print(x_train_part.shape)\n",
    "\n",
    "# y_train_part = y_train[:86]\n",
    "# print(y_train_part.shape)"
   ]
  },
  {
   "cell_type": "markdown",
   "metadata": {},
   "source": [
    "## Question 1\n",
    "K-fold data partition: Implement the K-fold cross-validation function. Your function should take K as an argument and return a list of lists (len(list) should equal to K), which contains K elements. Each element is a list contains two parts, the first part contains the index of all training folds, e.g. Fold 2 to Fold 5 in split 1. The second part contains the index of validation fold, e.g. Fold 1 in  split 1"
   ]
  },
  {
   "cell_type": "code",
   "execution_count": 6,
   "metadata": {},
   "outputs": [],
   "source": [
    "def cross_validation(x_train, y_train, k=5):\n",
    "    KFoldData = []\n",
    "    num_of_data = x_train.shape[0]\n",
    "    # Get all training data's indices and shuffle the ordering\n",
    "    data_indices = np.arange(num_of_data)\n",
    "    random.shuffle(data_indices)\n",
    "\n",
    "    if num_of_data % k == 0:\n",
    "        # Create k splits to become validation folds\n",
    "        valFolds = np.split(data_indices, k, axis=0)\n",
    "        for i in range(k):\n",
    "            currentSplit = []\n",
    "            val_fold = np.sort(valFolds[i])\n",
    "            train_fold = np.setdiff1d(data_indices, val_fold)\n",
    "            currentSplit.append(train_fold)\n",
    "            currentSplit.append(val_fold)\n",
    "            KFoldData.append(currentSplit)\n",
    "    else:\n",
    "        \"\"\" \n",
    "        When num_of_data is not divisible by K:\n",
    "        The first (n_samples % n_splits) folds have size (n_samples // n_splits + 1),\n",
    "        other folds have size (n_samples // n_splits), where n_samples is the number of samples.\n",
    "        \"\"\"\n",
    "        num_of_firstValFolds = num_of_data % k\n",
    "        num_of_otherValFolds = k - num_of_firstValFolds\n",
    "        size_of_each_firstValFold = num_of_data // k + 1\n",
    "        size_of_each_otherValFold = num_of_data // k\n",
    "        data_of_firstValFolds = data_indices[:num_of_firstValFolds*size_of_each_firstValFold]\n",
    "        data_of_otherValFolds = np.setdiff1d(data_indices, data_of_firstValFolds)\n",
    "\n",
    "        # For first parts\n",
    "        firstValFolds = np.split(data_of_firstValFolds, num_of_firstValFolds, axis=0)\n",
    "        for i in range(num_of_firstValFolds):\n",
    "            currentSplit = []\n",
    "            val_fold = np.sort(firstValFolds[i])\n",
    "            train_fold = np.setdiff1d(data_of_firstValFolds, val_fold)\n",
    "            currentSplit.append(train_fold)\n",
    "            currentSplit.append(val_fold)\n",
    "            KFoldData.append(currentSplit)\n",
    "\n",
    "        # For other parts\n",
    "        otherValFolds = np.split(data_of_otherValFolds, num_of_otherValFolds, axis=0)\n",
    "        for i in range(num_of_otherValFolds):\n",
    "            currentSplit = []\n",
    "            val_fold = np.sort(otherValFolds[i])\n",
    "            train_fold = np.setdiff1d(data_of_otherValFolds, val_fold)\n",
    "            currentSplit.append(train_fold)\n",
    "            currentSplit.append(val_fold)\n",
    "            KFoldData.append(currentSplit)\n",
    "\n",
    "    return KFoldData"
   ]
  },
  {
   "cell_type": "code",
   "execution_count": 7,
   "metadata": {},
   "outputs": [],
   "source": [
    "kfold_data = cross_validation(x_train, y_train, k=10)\n",
    "assert len(kfold_data) == 10 # should contain 10 fold of data\n",
    "assert len(kfold_data[0]) == 2 # each element should contain train fold and validation fold\n",
    "assert kfold_data[0][1].shape[0] == 55 # The number of data in each validation fold should equal to training data divieded by K"
   ]
  },
  {
   "cell_type": "code",
   "execution_count": 8,
   "metadata": {},
   "outputs": [],
   "source": [
    "# test_kfold_data = cross_validation(x_train_part, y_train_part, k=10)\n",
    "\n",
    "# for i in range(10):\n",
    "#     print(f'Split {i}')\n",
    "#     print(test_kfold_data[i])"
   ]
  },
  {
   "cell_type": "markdown",
   "metadata": {},
   "source": [
    "## example"
   ]
  },
  {
   "cell_type": "code",
   "execution_count": 9,
   "metadata": {},
   "outputs": [
    {
     "output_type": "stream",
     "name": "stdout",
     "text": [
      "Split: 1, Training index: [ 1  2  4  5  6  7  8 11 12 13 14 15 16 17 18 19], Validation index: [ 0  3  9 10]\nSplit: 2, Training index: [ 0  1  3  5  6  8  9 10 11 12 13 14 15 16 18 19], Validation index: [ 2  4  7 17]\nSplit: 3, Training index: [ 0  2  3  4  6  7  9 10 12 13 14 15 16 17 18 19], Validation index: [ 1  5  8 11]\nSplit: 4, Training index: [ 0  1  2  3  4  5  6  7  8  9 10 11 14 17 18 19], Validation index: [12 13 15 16]\nSplit: 5, Training index: [ 0  1  2  3  4  5  7  8  9 10 11 12 13 15 16 17], Validation index: [ 6 14 18 19]\n"
     ]
    }
   ],
   "source": [
    "from sklearn.model_selection import KFold\n",
    "\n",
    "X = np.arange(20)\n",
    "kf = KFold(n_splits=5, shuffle=True)\n",
    "kfold_data= []\n",
    "for i, (train_index, val_index) in enumerate(kf.split(X)):\n",
    "    print(\"Split: %s, Training index: %s, Validation index: %s\" % (i+1, train_index, val_index))\n",
    "    kfold_data.append([train_index, val_index])"
   ]
  },
  {
   "cell_type": "code",
   "execution_count": 10,
   "metadata": {},
   "outputs": [],
   "source": [
    "assert len(kfold_data) == 5 # should contain 5 fold of data\n",
    "assert len(kfold_data[0]) == 2 # each element should contains index of training fold and validation fold\n",
    "assert kfold_data[0][1].shape[0] == 4 # The number of data in each validation fold should equal to training data divieded by K"
   ]
  },
  {
   "cell_type": "markdown",
   "metadata": {},
   "source": [
    "## Question 2\n",
    "Using sklearn.svm.SVC to train a classifier on the provided train set and conduct the grid search of “C”, “kernel” and “gamma” to find the best parameters by cross-validation."
   ]
  },
  {
   "cell_type": "code",
   "execution_count": 15,
   "metadata": {},
   "outputs": [
    {
     "output_type": "execute_result",
     "data": {
      "text/plain": [
       "SVC(C=1.0, break_ties=False, cache_size=200, class_weight=None, coef0=0.0,\n",
       "    decision_function_shape='ovr', degree=3, gamma=0.01, kernel='rbf',\n",
       "    max_iter=-1, probability=False, random_state=None, shrinking=True,\n",
       "    tol=0.001, verbose=False)"
      ]
     },
     "metadata": {},
     "execution_count": 15
    }
   ],
   "source": [
    "clf = SVC(C=1.0, kernel='rbf', gamma=0.01)\n",
    "clf.fit(x_train, y_train)"
   ]
  },
  {
   "cell_type": "code",
   "execution_count": 17,
   "metadata": {},
   "outputs": [
    {
     "output_type": "execute_result",
     "data": {
      "text/plain": [
       "0.6927083333333334"
      ]
     },
     "metadata": {},
     "execution_count": 17
    }
   ],
   "source": [
    "y_pred = clf.predict(x_test)\n",
    "accuracy_score(y_test, y_pred)"
   ]
  },
  {
   "cell_type": "code",
   "execution_count": 29,
   "metadata": {},
   "outputs": [
    {
     "output_type": "stream",
     "name": "stdout",
     "text": [
      "(C:0.001, gamma:0.001 -> accuracy:0.6927083333333334)\n",
      "(C:0.001, gamma:0.01 -> accuracy:0.6927083333333334)\n",
      "(C:0.001, gamma:0.1 -> accuracy:0.6927083333333334)\n",
      "(C:0.001, gamma:1.0 -> accuracy:0.6927083333333334)\n",
      "(C:0.001, gamma:10.0 -> accuracy:0.6927083333333334)\n",
      "(C:0.001, gamma:100.0 -> accuracy:0.6927083333333334)\n",
      "(C:0.001, gamma:1000.0 -> accuracy:0.6927083333333334)\n",
      "(C:0.001, gamma:10000.0 -> accuracy:0.6927083333333334)\n",
      "(C:0.01, gamma:0.001 -> accuracy:0.6927083333333334)\n",
      "(C:0.01, gamma:0.01 -> accuracy:0.6927083333333334)\n",
      "(C:0.01, gamma:0.1 -> accuracy:0.6927083333333334)\n",
      "(C:0.01, gamma:1.0 -> accuracy:0.6927083333333334)\n",
      "(C:0.01, gamma:10.0 -> accuracy:0.6927083333333334)\n",
      "(C:0.01, gamma:100.0 -> accuracy:0.6927083333333334)\n",
      "(C:0.01, gamma:1000.0 -> accuracy:0.6927083333333334)\n",
      "(C:0.01, gamma:10000.0 -> accuracy:0.6927083333333334)\n",
      "(C:0.1, gamma:0.001 -> accuracy:0.6927083333333334)\n",
      "(C:0.1, gamma:0.01 -> accuracy:0.6927083333333334)\n",
      "(C:0.1, gamma:0.1 -> accuracy:0.6927083333333334)\n",
      "(C:0.1, gamma:1.0 -> accuracy:0.6927083333333334)\n",
      "(C:0.1, gamma:10.0 -> accuracy:0.6927083333333334)\n",
      "(C:0.1, gamma:100.0 -> accuracy:0.6927083333333334)\n",
      "(C:0.1, gamma:1000.0 -> accuracy:0.6927083333333334)\n",
      "(C:0.1, gamma:10000.0 -> accuracy:0.6927083333333334)\n",
      "(C:1.0, gamma:0.001 -> accuracy:0.7447916666666666)\n",
      "(C:1.0, gamma:0.01 -> accuracy:0.6927083333333334)\n",
      "(C:1.0, gamma:0.1 -> accuracy:0.6927083333333334)\n",
      "(C:1.0, gamma:1.0 -> accuracy:0.6927083333333334)\n",
      "(C:1.0, gamma:10.0 -> accuracy:0.6927083333333334)\n",
      "(C:1.0, gamma:100.0 -> accuracy:0.6927083333333334)\n",
      "(C:1.0, gamma:1000.0 -> accuracy:0.6927083333333334)\n",
      "(C:1.0, gamma:10000.0 -> accuracy:0.6927083333333334)\n",
      "(C:10.0, gamma:0.001 -> accuracy:0.8958333333333334)\n",
      "(C:10.0, gamma:0.01 -> accuracy:0.6927083333333334)\n",
      "(C:10.0, gamma:0.1 -> accuracy:0.6927083333333334)\n",
      "(C:10.0, gamma:1.0 -> accuracy:0.6927083333333334)\n",
      "(C:10.0, gamma:10.0 -> accuracy:0.6927083333333334)\n",
      "(C:10.0, gamma:100.0 -> accuracy:0.6927083333333334)\n",
      "(C:10.0, gamma:1000.0 -> accuracy:0.6927083333333334)\n",
      "(C:10.0, gamma:10000.0 -> accuracy:0.6927083333333334)\n",
      "(C:100.0, gamma:0.001 -> accuracy:0.8958333333333334)\n",
      "(C:100.0, gamma:0.01 -> accuracy:0.6927083333333334)\n",
      "(C:100.0, gamma:0.1 -> accuracy:0.6927083333333334)\n",
      "(C:100.0, gamma:1.0 -> accuracy:0.6927083333333334)\n",
      "(C:100.0, gamma:10.0 -> accuracy:0.6927083333333334)\n",
      "(C:100.0, gamma:100.0 -> accuracy:0.6927083333333334)\n",
      "(C:100.0, gamma:1000.0 -> accuracy:0.6927083333333334)\n",
      "(C:100.0, gamma:10000.0 -> accuracy:0.6927083333333334)\n",
      "(C:1000.0, gamma:0.001 -> accuracy:0.8958333333333334)\n",
      "(C:1000.0, gamma:0.01 -> accuracy:0.6927083333333334)\n",
      "(C:1000.0, gamma:0.1 -> accuracy:0.6927083333333334)\n",
      "(C:1000.0, gamma:1.0 -> accuracy:0.6927083333333334)\n",
      "(C:1000.0, gamma:10.0 -> accuracy:0.6927083333333334)\n",
      "(C:1000.0, gamma:100.0 -> accuracy:0.6927083333333334)\n",
      "(C:1000.0, gamma:1000.0 -> accuracy:0.6927083333333334)\n",
      "(C:1000.0, gamma:10000.0 -> accuracy:0.6927083333333334)\n",
      "(C:10000.0, gamma:0.001 -> accuracy:0.8958333333333334)\n",
      "(C:10000.0, gamma:0.01 -> accuracy:0.6927083333333334)\n",
      "(C:10000.0, gamma:0.1 -> accuracy:0.6927083333333334)\n",
      "(C:10000.0, gamma:1.0 -> accuracy:0.6927083333333334)\n",
      "(C:10000.0, gamma:10.0 -> accuracy:0.6927083333333334)\n",
      "(C:10000.0, gamma:100.0 -> accuracy:0.6927083333333334)\n",
      "(C:10000.0, gamma:1000.0 -> accuracy:0.6927083333333334)\n",
      "(C:10000.0, gamma:10000.0 -> accuracy:0.6927083333333334)\n"
     ]
    }
   ],
   "source": [
    "## your code\n",
    "C_list = [0.001, 0.01, 0.1, 1.0, 10.0, 100.0, 1000.0, 10000.0]\n",
    "Gamma_list = [0.001, 0.01, 0.1, 1.0, 10.0, 100.0, 1000.0, 10000.0]\n",
    "best_accuracy = 0.0\n",
    "best_C, best_gamma = None, None\n",
    "\n",
    "for C in C_list:\n",
    "    for gamma in Gamma_list:\n",
    "        clf = SVC(C=C, kernel='rbf', gamma=gamma)\n",
    "        clf.fit(x_train, y_train)\n",
    "        y_pred = clf.predict(x_test)\n",
    "        current_accuracy = accuracy_score(y_pred, y_test)\n",
    "        print(f'(C:{C}, gamma:{gamma} -> accuracy:{current_accuracy})')\n",
    "\n",
    "        if(best_accuracy < current_accuracy):\n",
    "            best_accuracy =  current_accuracy\n",
    "            best_C = C\n",
    "            best_gamma = gamma"
   ]
  },
  {
   "cell_type": "code",
   "execution_count": 30,
   "metadata": {},
   "outputs": [
    {
     "output_type": "stream",
     "name": "stdout",
     "text": [
      "0.8958333333333334\n10.0\n0.001\n"
     ]
    }
   ],
   "source": [
    "print(best_accuarcy)\n",
    "print(best_C)\n",
    "print(best_gamma)"
   ]
  },
  {
   "cell_type": "code",
   "execution_count": null,
   "metadata": {},
   "outputs": [],
   "source": [
    "print(best_parameters)"
   ]
  },
  {
   "cell_type": "markdown",
   "metadata": {},
   "source": [
    "## Question 3\n",
    "Plot the grid search results of your SVM. The x, y represents the hyperparameters of “gamma” and “C”, respectively. And the color represents the average score of validation folds\n",
    "You reults should be look like this reference image below ![image](https://miro.medium.com/max/1296/1*wGWTup9r4cVytB5MOnsjdQ.png) "
   ]
  },
  {
   "cell_type": "markdown",
   "metadata": {},
   "source": [
    "## Question 4\n",
    "Train your SVM model by the best parameters you found from question 2 on the whole training set and evaluate the performance on the test set. **You accuracy should over 0.85**"
   ]
  },
  {
   "cell_type": "code",
   "execution_count": null,
   "metadata": {},
   "outputs": [],
   "source": [
    "y_pred = best_model.predict(x_test)\n",
    "print(\"Accuracy score: \", accuracy_score(y_pred, y_test))"
   ]
  },
  {
   "cell_type": "markdown",
   "metadata": {},
   "source": [
    "## Question 5\n",
    "Compare the performance of the model you have implemented in HW1 with the SVM"
   ]
  },
  {
   "cell_type": "markdown",
   "metadata": {},
   "source": [
    "### HW1"
   ]
  },
  {
   "cell_type": "code",
   "execution_count": 8,
   "metadata": {},
   "outputs": [],
   "source": [
    "train_df = pd.read_csv(\"../HW1/train_data.csv\")\n",
    "x_train = train_df['x_train'].to_numpy().reshape(-1,1)\n",
    "y_train = train_df['y_train'].to_numpy().reshape(-1,1)\n",
    "\n",
    "test_df = pd.read_csv(\"../HW1/test_data.csv\")\n",
    "x_test = test_df['x_test'].to_numpy().reshape(-1,1)\n",
    "y_test = test_df['y_test'].to_numpy().reshape(-1,1)"
   ]
  },
  {
   "cell_type": "code",
   "execution_count": 42,
   "metadata": {},
   "outputs": [
    {
     "name": "stdout",
     "output_type": "stream",
     "text": [
      "Square error of Linear regression: \n",
      "Square error of SVM regresssion model: \n"
     ]
    }
   ],
   "source": [
    "print(\"Square error of Linear regression: \")\n",
    "print(\"Square error of SVM regresssion model: \")"
   ]
  }
 ],
 "metadata": {
  "kernelspec": {
   "name": "python364jvsc74a57bd0e7c37ba80a6e54a3d63188245ab5de6a3e0d381993bcb1990a7020536fc2299e",
   "display_name": "Python 3.6.4 64-bit"
  },
  "language_info": {
   "codemirror_mode": {
    "name": "ipython",
    "version": 3
   },
   "file_extension": ".py",
   "mimetype": "text/x-python",
   "name": "python",
   "nbconvert_exporter": "python",
   "pygments_lexer": "ipython3",
   "version": "3.6.4"
  }
 },
 "nbformat": 4,
 "nbformat_minor": 4
}